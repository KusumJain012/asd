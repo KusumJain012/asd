{
 "cells": [
  {
   "cell_type": "code",
   "execution_count": 1,
   "metadata": {
    "execution": {
     "iopub.execute_input": "2020-08-25T02:43:01.305768Z",
     "iopub.status.busy": "2020-08-25T02:43:01.304883Z",
     "iopub.status.idle": "2020-08-25T02:43:02.321000Z",
     "shell.execute_reply": "2020-08-25T02:43:02.319909Z"
    },
    "id": "PeTc01GxqTEj",
    "papermill": {
     "duration": 1.059093,
     "end_time": "2020-08-25T02:43:02.321208",
     "exception": false,
     "start_time": "2020-08-25T02:43:01.262115",
     "status": "completed"
    },
    "tags": []
   },
   "outputs": [],
   "source": [
    "### define our metrics function with plotting confusion matrix\n",
    "import itertools\n",
    "from sklearn.metrics import confusion_matrix \n",
    "\n",
    "### define function for plotting confusion matrix\n",
    "def plot_confusion_matrix(y_true, y_preds):\n",
    "    # Print confusion matrix\n",
    "    cnf_matrix = confusion_matrix(y_true, y_preds)\n",
    "    # Create the basic matrix\n",
    "    plt.imshow(cnf_matrix,  cmap=plt.cm.Blues)\n",
    "    # Add title and axis labels\n",
    "    plt.title('Confusion Matrix')\n",
    "    plt.ylabel('True label')\n",
    "    plt.xlabel('Predicted label')\n",
    "    # Add appropriate axis scales\n",
    "    class_names = set(y) # Get class labels to add to matrix\n",
    "    tick_marks = np.arange(len(class_names))\n",
    "    plt.xticks(tick_marks, class_names, rotation=0)\n",
    "    plt.yticks(tick_marks, class_names)\n",
    "    # Add labels to each cell\n",
    "    thresh = cnf_matrix.max() / 2. # Used for text coloring below\n",
    "    # Here we iterate through the confusion matrix and append labels to our visualization\n",
    "    for i, j in itertools.product(range(cnf_matrix.shape[0]), range(cnf_matrix.shape[1])):\n",
    "            plt.text(j, i, cnf_matrix[i, j],\n",
    "                     horizontalalignment='center',\n",
    "                     color='white' if cnf_matrix[i, j] > thresh else 'black')\n",
    "    # Add a legend\n",
    "    plt.colorbar();\n",
    "    plt.show();\n",
    "def metrics(model_name, y_train, y_test, y_hat_train, y_hat_test):\n",
    "    '''Print out the evaluation metrics for a given models predictions'''\n",
    "    print(f'Model: {model_name}', )\n",
    "    print('-'*60)\n",
    "    plot_confusion_matrix(y_test,y_hat_test)\n",
    "    print(f'test accuracy: {round(accuracy_score(y_test, y_hat_test),2)}')\n",
    "    print(f'train accuracy: {round(accuracy_score(y_train, y_hat_train),2)}')\n",
    "    print('-'*60)\n",
    "    print('-'*60)\n",
    "    print('Confusion Matrix:\\n', pd.crosstab(y_test, y_hat_test, rownames=['Actual'], colnames=['Predicted'],margins = True))\n",
    "    print('\\ntest report:\\n' + classification_report(y_test, y_hat_test))\n",
    "    print('~'*60)\n",
    "    print('\\ntrain report:\\n' + classification_report(y_train, y_hat_train))\n",
    "    print('-'*60)"
   ]
  },
  {
   "cell_type": "code",
   "execution_count": 2,
   "metadata": {
    "execution": {
     "iopub.execute_input": "2020-08-25T02:43:02.434894Z",
     "iopub.status.busy": "2020-08-25T02:43:02.433669Z",
     "iopub.status.idle": "2020-08-25T02:43:02.437655Z",
     "shell.execute_reply": "2020-08-25T02:43:02.436567Z"
    },
    "id": "DRlDC0YQ_NZf",
    "papermill": {
     "duration": 0.036052,
     "end_time": "2020-08-25T02:43:02.437865",
     "exception": false,
     "start_time": "2020-08-25T02:43:02.401813",
     "status": "completed"
    },
    "tags": []
   },
   "outputs": [],
   "source": [
    "def plot_feature_importances(model):\n",
    "    n_features = X_train.shape[1]\n",
    "    plt.figure(figsize=(8, 8))\n",
    "    plt.barh(range(n_features), model.feature_importances_, align='center')\n",
    "    plt.yticks(np.arange(n_features), X_train.columns.values)\n",
    "    plt.xlabel('Feature importance')\n",
    "    plt.ylabel('Feature')"
   ]
  },
  {
   "cell_type": "code",
   "execution_count": 3,
   "metadata": {
    "execution": {
     "iopub.execute_input": "2020-08-25T02:43:02.565198Z",
     "iopub.status.busy": "2020-08-25T02:43:02.563952Z",
     "iopub.status.idle": "2020-08-25T02:43:03.914103Z",
     "shell.execute_reply": "2020-08-25T02:43:03.913426Z"
    },
    "id": "xq-iuz05Kjoj",
    "outputId": "7d8d639f-a143-4487-d5cf-16c346ef8213",
    "papermill": {
     "duration": 1.390812,
     "end_time": "2020-08-25T02:43:03.914243",
     "exception": false,
     "start_time": "2020-08-25T02:43:02.523431",
     "status": "completed"
    },
    "tags": []
   },
   "outputs": [
    {
     "ename": "ModuleNotFoundError",
     "evalue": "No module named 'xgboost'",
     "output_type": "error",
     "traceback": [
      "\u001b[1;31m---------------------------------------------------------------------------\u001b[0m",
      "\u001b[1;31mModuleNotFoundError\u001b[0m                       Traceback (most recent call last)",
      "Input \u001b[1;32mIn [3]\u001b[0m, in \u001b[0;36m<cell line: 18>\u001b[1;34m()\u001b[0m\n\u001b[0;32m     16\u001b[0m \u001b[38;5;28;01mfrom\u001b[39;00m \u001b[38;5;21;01msklearn\u001b[39;00m\u001b[38;5;21;01m.\u001b[39;00m\u001b[38;5;21;01mensemble\u001b[39;00m \u001b[38;5;28;01mimport\u001b[39;00m RandomForestClassifier , GradientBoostingClassifier\n\u001b[0;32m     17\u001b[0m \u001b[38;5;28;01mfrom\u001b[39;00m \u001b[38;5;21;01msklearn\u001b[39;00m\u001b[38;5;21;01m.\u001b[39;00m\u001b[38;5;21;01mdiscriminant_analysis\u001b[39;00m \u001b[38;5;28;01mimport\u001b[39;00m LinearDiscriminantAnalysis , QuadraticDiscriminantAnalysis\n\u001b[1;32m---> 18\u001b[0m \u001b[38;5;28;01mfrom\u001b[39;00m \u001b[38;5;21;01mxgboost\u001b[39;00m \u001b[38;5;28;01mimport\u001b[39;00m XGBClassifier\n\u001b[0;32m     20\u001b[0m \u001b[38;5;66;03m# Regression\u001b[39;00m\n\u001b[0;32m     21\u001b[0m \u001b[38;5;28;01mfrom\u001b[39;00m \u001b[38;5;21;01msklearn\u001b[39;00m\u001b[38;5;21;01m.\u001b[39;00m\u001b[38;5;21;01mlinear_model\u001b[39;00m \u001b[38;5;28;01mimport\u001b[39;00m LinearRegression,Ridge,Lasso,RidgeCV, ElasticNet, LogisticRegression\n",
      "\u001b[1;31mModuleNotFoundError\u001b[0m: No module named 'xgboost'"
     ]
    }
   ],
   "source": [
    "# Importing libraries\n",
    "import numpy as np\n",
    "import pandas as pd\n",
    "import seaborn as sns\n",
    "import matplotlib.pyplot as plt\n",
    "\n",
    "# Supress warnings\n",
    "import warnings\n",
    "warnings.filterwarnings(\"ignore\")\n",
    "\n",
    "# Classification\n",
    "from sklearn.tree import DecisionTreeClassifier\n",
    "from sklearn.neighbors import KNeighborsClassifier\n",
    "from sklearn.naive_bayes import GaussianNB\n",
    "from sklearn.svm import SVC, LinearSVC\n",
    "from sklearn.ensemble import RandomForestClassifier , GradientBoostingClassifier\n",
    "from sklearn.discriminant_analysis import LinearDiscriminantAnalysis , QuadraticDiscriminantAnalysis\n",
    "from xgboost import XGBClassifier\n",
    "\n",
    "# Regression\n",
    "from sklearn.linear_model import LinearRegression,Ridge,Lasso,RidgeCV, ElasticNet, LogisticRegression\n",
    "from sklearn.ensemble import RandomForestRegressor,BaggingRegressor,GradientBoostingRegressor,AdaBoostRegressor \n",
    "from sklearn.svm import SVR\n",
    "from sklearn.neighbors import KNeighborsRegressor\n",
    "from sklearn.neural_network import MLPRegressor\n",
    "from xgboost import XGBRegressor\n",
    "\n",
    "# Modelling Helpers :\n",
    "from sklearn.preprocessing import Normalizer , scale\n",
    "from sklearn.model_selection import train_test_split\n",
    "from sklearn.feature_selection import RFECV\n",
    "from sklearn.model_selection import GridSearchCV , KFold , cross_val_score, ShuffleSplit, cross_validate\n",
    "\n",
    "# Preprocessing :\n",
    "from sklearn.preprocessing import MinMaxScaler , StandardScaler, LabelEncoder\n",
    "from sklearn.impute import SimpleImputer\n",
    "\n",
    "# Metrics :\n",
    "# Regression\n",
    "from sklearn.metrics import mean_squared_log_error,mean_squared_error, r2_score,mean_absolute_error \n",
    "from sklearn.metrics import accuracy_score,classification_report\n",
    "\n",
    "# Classification\n",
    "from sklearn.metrics import recall_score, f1_score, fbeta_score, r2_score, roc_auc_score, roc_curve, auc, cohen_kappa_score\n",
    "\n",
    "\n",
    "## To display  all the interactive output without using the print function\n",
    "from IPython.core.interactiveshell import InteractiveShell\n",
    "InteractiveShell.ast_node_interactivity = \"all\"\n"
   ]
  },
  {
   "cell_type": "code",
   "execution_count": null,
   "metadata": {
    "execution": {
     "iopub.execute_input": "2020-08-25T02:43:04.019611Z",
     "iopub.status.busy": "2020-08-25T02:43:04.018393Z",
     "iopub.status.idle": "2020-08-25T02:43:04.035095Z",
     "shell.execute_reply": "2020-08-25T02:43:04.034309Z"
    },
    "id": "Ps0EcXWbmY8w",
    "outputId": "b97f6dd2-0aa0-4a9f-b258-fb4f556c75fb",
    "papermill": {
     "duration": 0.05001,
     "end_time": "2020-08-25T02:43:04.035223",
     "exception": false,
     "start_time": "2020-08-25T02:43:03.985213",
     "status": "completed"
    },
    "tags": []
   },
   "outputs": [],
   "source": [
    "import pandas as pd\n",
    "df=pd.read_csv(\"ToddlerAutism.csv\")\n",
    "\n"
   ]
  },
  {
   "cell_type": "code",
   "execution_count": null,
   "metadata": {
    "execution": {
     "iopub.execute_input": "2020-08-25T02:43:04.170273Z",
     "iopub.status.busy": "2020-08-25T02:43:04.140048Z",
     "iopub.status.idle": "2020-08-25T02:43:04.198559Z",
     "shell.execute_reply": "2020-08-25T02:43:04.197790Z"
    },
    "id": "74tCWc_um79O",
    "outputId": "e93acfbc-a747-4cf7-e333-3be4ab925cb3",
    "papermill": {
     "duration": 0.09212,
     "end_time": "2020-08-25T02:43:04.198691",
     "exception": false,
     "start_time": "2020-08-25T02:43:04.106571",
     "status": "completed"
    },
    "tags": []
   },
   "outputs": [],
   "source": [
    "df.info()\n",
    "df.head(20)"
   ]
  },
  {
   "cell_type": "code",
   "execution_count": null,
   "metadata": {
    "execution": {
     "iopub.execute_input": "2020-08-25T02:43:04.306931Z",
     "iopub.status.busy": "2020-08-25T02:43:04.305901Z",
     "iopub.status.idle": "2020-08-25T02:43:04.310088Z",
     "shell.execute_reply": "2020-08-25T02:43:04.310641Z"
    },
    "id": "KWHZVw3nO2mZ",
    "outputId": "30123f5a-1847-48c9-df8c-4edc0ad8c81b",
    "papermill": {
     "duration": 0.036224,
     "end_time": "2020-08-25T02:43:04.310831",
     "exception": false,
     "start_time": "2020-08-25T02:43:04.274607",
     "status": "completed"
    },
    "tags": []
   },
   "outputs": [],
   "source": [
    "df.shape"
   ]
  },
  {
   "cell_type": "code",
   "execution_count": null,
   "metadata": {
    "execution": {
     "iopub.execute_input": "2020-08-25T02:43:04.475854Z",
     "iopub.status.busy": "2020-08-25T02:43:04.474658Z",
     "iopub.status.idle": "2020-08-25T02:43:04.536369Z",
     "shell.execute_reply": "2020-08-25T02:43:04.535681Z"
    },
    "id": "3AwPlxW4n1zw",
    "outputId": "d987109e-6d1c-4c3b-963c-ad993adf53a5",
    "papermill": {
     "duration": 0.100445,
     "end_time": "2020-08-25T02:43:04.536499",
     "exception": false,
     "start_time": "2020-08-25T02:43:04.436054",
     "status": "completed"
    },
    "tags": []
   },
   "outputs": [],
   "source": [
    "df.describe()"
   ]
  },
  {
   "cell_type": "code",
   "execution_count": null,
   "metadata": {
    "execution": {
     "iopub.execute_input": "2020-08-25T02:43:04.647147Z",
     "iopub.status.busy": "2020-08-25T02:43:04.646258Z",
     "iopub.status.idle": "2020-08-25T02:43:04.650985Z",
     "shell.execute_reply": "2020-08-25T02:43:04.650250Z"
    },
    "id": "3G-d7R1zNrsR",
    "outputId": "9a51f510-bd2a-4f55-e3e8-808c654b5d79",
    "papermill": {
     "duration": 0.036544,
     "end_time": "2020-08-25T02:43:04.651124",
     "exception": false,
     "start_time": "2020-08-25T02:43:04.614580",
     "status": "completed"
    },
    "tags": []
   },
   "outputs": [],
   "source": [
    "df.columns"
   ]
  },
  {
   "cell_type": "code",
   "execution_count": null,
   "metadata": {
    "execution": {
     "iopub.execute_input": "2020-08-25T02:43:04.764635Z",
     "iopub.status.busy": "2020-08-25T02:43:04.763494Z",
     "iopub.status.idle": "2020-08-25T02:43:04.768825Z",
     "shell.execute_reply": "2020-08-25T02:43:04.768032Z"
    },
    "id": "3BhM-YRhNvG3",
    "outputId": "bc2cf22c-8b21-4627-dbaa-85897095adb5",
    "papermill": {
     "duration": 0.039981,
     "end_time": "2020-08-25T02:43:04.768970",
     "exception": false,
     "start_time": "2020-08-25T02:43:04.728989",
     "status": "completed"
    },
    "tags": []
   },
   "outputs": [],
   "source": [
    "#remove unwanted columns\n",
    "df.drop(['Case_No'], axis = 1, inplace = True)\n",
    "df.columns"
   ]
  },
  {
   "cell_type": "code",
   "execution_count": null,
   "metadata": {
    "execution": {
     "iopub.execute_input": "2020-08-25T02:43:04.892824Z",
     "iopub.status.busy": "2020-08-25T02:43:04.891637Z",
     "iopub.status.idle": "2020-08-25T02:43:04.896837Z",
     "shell.execute_reply": "2020-08-25T02:43:04.895974Z"
    },
    "id": "7mAE8IR_a1s9",
    "outputId": "9e23ff10-454e-4324-bef6-60bca896eb04",
    "papermill": {
     "duration": 0.049921,
     "end_time": "2020-08-25T02:43:04.897019",
     "exception": false,
     "start_time": "2020-08-25T02:43:04.847098",
     "status": "completed"
    },
    "tags": []
   },
   "outputs": [],
   "source": [
    "# Calculating the percentage of babies shows the symptoms of autisim\n",
    "yes_autism= df[df['Class/ASD Traits ']=='Yes']\n",
    "no_autism= df[df['Class/ASD Traits ']=='No']\n",
    "\n",
    "print(\"Toddlers:\",round(len(yes_autism)/len(df) * 100,2))\n",
    "\n",
    "print(\"Toddlers:\",round(len(no_autism)/len(df) * 100,2))\n",
    "\n",
    "\n",
    "\n"
   ]
  },
  {
   "cell_type": "code",
   "execution_count": null,
   "metadata": {
    "execution": {
     "iopub.execute_input": "2020-08-25T02:43:04.961335Z",
     "iopub.status.busy": "2020-08-25T02:43:04.960244Z",
     "iopub.status.idle": "2020-08-25T02:43:04.965463Z",
     "shell.execute_reply": "2020-08-25T02:43:04.964676Z"
    },
    "papermill": {
     "duration": 0.040291,
     "end_time": "2020-08-25T02:43:04.965589",
     "exception": false,
     "start_time": "2020-08-25T02:43:04.925298",
     "status": "completed"
    },
    "tags": []
   },
   "outputs": [],
   "source": [
    "# Displaying the content of the target column\n",
    "df['Class/ASD Traits '].value_counts()"
   ]
  },
  {
   "cell_type": "code",
   "execution_count": null,
   "metadata": {
    "execution": {
     "iopub.execute_input": "2020-08-25T02:43:05.081194Z",
     "iopub.status.busy": "2020-08-25T02:43:05.080322Z",
     "iopub.status.idle": "2020-08-25T02:43:05.217629Z",
     "shell.execute_reply": "2020-08-25T02:43:05.216856Z"
    },
    "papermill": {
     "duration": 0.172468,
     "end_time": "2020-08-25T02:43:05.217782",
     "exception": false,
     "start_time": "2020-08-25T02:43:05.045314",
     "status": "completed"
    },
    "tags": []
   },
   "outputs": [],
   "source": [
    "import matplotlib.pyplot as plt\n",
    "fig = plt.gcf()\n",
    "fig.set_size_inches(7,7)\n",
    "plt.pie(df[\"Class/ASD Traits \"].value_counts(),labels=('no_autism','yes_autism'),explode = [0.1,0],autopct ='%1.1f%%' ,\n",
    "        shadow = True,startangle = 90,labeldistance = 1.1)\n",
    "plt.axis('equal')\n",
    "\n",
    "plt.show()"
   ]
  },
  {
   "cell_type": "code",
   "execution_count": null,
   "metadata": {
    "execution": {
     "iopub.execute_input": "2020-08-25T02:43:05.335657Z",
     "iopub.status.busy": "2020-08-25T02:43:05.334804Z",
     "iopub.status.idle": "2020-08-25T02:43:05.339505Z",
     "shell.execute_reply": "2020-08-25T02:43:05.338786Z"
    },
    "id": "QX6MaoBhbv1a",
    "outputId": "6d5a0bba-f0cd-4a61-9d7b-b2a4d02ab74c",
    "papermill": {
     "duration": 0.040278,
     "end_time": "2020-08-25T02:43:05.339628",
     "exception": false,
     "start_time": "2020-08-25T02:43:05.299350",
     "status": "completed"
    },
    "tags": []
   },
   "outputs": [],
   "source": [
    "# Checking null data \n",
    "df.isnull().sum()"
   ]
  },
  {
   "cell_type": "code",
   "execution_count": null,
   "metadata": {
    "execution": {
     "iopub.execute_input": "2020-08-25T02:43:05.456885Z",
     "iopub.status.busy": "2020-08-25T02:43:05.455755Z",
     "iopub.status.idle": "2020-08-25T02:43:05.460587Z",
     "shell.execute_reply": "2020-08-25T02:43:05.459992Z"
    },
    "id": "ENPB55O6N_ut",
    "outputId": "699dfc93-683b-4e1b-c7c6-5870101de686",
    "papermill": {
     "duration": 0.039787,
     "end_time": "2020-08-25T02:43:05.460741",
     "exception": false,
     "start_time": "2020-08-25T02:43:05.420954",
     "status": "completed"
    },
    "tags": []
   },
   "outputs": [],
   "source": [
    "df.dtypes"
   ]
  },
  {
   "cell_type": "code",
   "execution_count": null,
   "metadata": {
    "execution": {
     "iopub.execute_input": "2020-08-25T02:43:05.630378Z",
     "iopub.status.busy": "2020-08-25T02:43:05.629607Z",
     "iopub.status.idle": "2020-08-25T02:43:06.531829Z",
     "shell.execute_reply": "2020-08-25T02:43:06.531020Z"
    },
    "id": "NmqoofnQOtXT",
    "outputId": "c97e8794-181f-4a55-d8cc-0dae7a769429",
    "papermill": {
     "duration": 0.939534,
     "end_time": "2020-08-25T02:43:06.531962",
     "exception": false,
     "start_time": "2020-08-25T02:43:05.592428",
     "status": "completed"
    },
    "tags": []
   },
   "outputs": [],
   "source": [
    "corr = df.corr( )\n",
    "plt.figure(figsize = (15,15))\n",
    "sns.heatmap(data = corr, annot = True, square = True, cbar = True)"
   ]
  },
  {
   "cell_type": "code",
   "execution_count": null,
   "metadata": {
    "execution": {
     "iopub.execute_input": "2020-08-25T02:43:09.907090Z",
     "iopub.status.busy": "2020-08-25T02:43:09.906133Z",
     "iopub.status.idle": "2020-08-25T02:43:09.909143Z",
     "shell.execute_reply": "2020-08-25T02:43:09.908516Z"
    },
    "id": "2-79wbExPgRb",
    "papermill": {
     "duration": 0.042795,
     "end_time": "2020-08-25T02:43:09.909277",
     "exception": false,
     "start_time": "2020-08-25T02:43:09.866482",
     "status": "completed"
    },
    "tags": []
   },
   "outputs": [],
   "source": [
    "# removing 'Qchat-10-Score'\n",
    "df.drop('Qchat-10-Score', axis = 1, inplace = True)"
   ]
  },
  {
   "cell_type": "code",
   "execution_count": null,
   "metadata": {
    "execution": {
     "iopub.execute_input": "2020-08-25T02:43:10.056525Z",
     "iopub.status.busy": "2020-08-25T02:43:10.055380Z",
     "iopub.status.idle": "2020-08-25T02:43:10.059677Z",
     "shell.execute_reply": "2020-08-25T02:43:10.060240Z"
    },
    "id": "7YeoDxGePxnW",
    "outputId": "1459720e-3dc4-4435-f653-f9c6973e26fa",
    "papermill": {
     "duration": 0.052403,
     "end_time": "2020-08-25T02:43:10.060410",
     "exception": false,
     "start_time": "2020-08-25T02:43:10.008007",
     "status": "completed"
    },
    "tags": []
   },
   "outputs": [],
   "source": [
    "le = LabelEncoder()\n",
    "columns = ['Class/ASD Traits ']\n",
    "for col in columns:\n",
    "    df[col] = le.fit_transform(df[col])\n",
    "df.dtypes\n"
   ]
  },
  {
   "cell_type": "code",
   "execution_count": null,
   "metadata": {
    "execution": {
     "iopub.execute_input": "2020-08-25T02:43:10.156733Z",
     "iopub.status.busy": "2020-08-25T02:43:10.155729Z",
     "iopub.status.idle": "2020-08-25T02:43:10.161865Z",
     "shell.execute_reply": "2020-08-25T02:43:10.161087Z"
    },
    "id": "uV9wyAjMP_99",
    "outputId": "54c88bee-4935-45cd-8442-c90e871ba15a",
    "papermill": {
     "duration": 0.068104,
     "end_time": "2020-08-25T02:43:10.162012",
     "exception": false,
     "start_time": "2020-08-25T02:43:10.093908",
     "status": "completed"
    },
    "tags": []
   },
   "outputs": [],
   "source": [
    "df.head(25)"
   ]
  },
  {
   "cell_type": "code",
   "execution_count": null,
   "metadata": {
    "execution": {
     "iopub.execute_input": "2020-08-25T02:43:10.312575Z",
     "iopub.status.busy": "2020-08-25T02:43:10.307892Z",
     "iopub.status.idle": "2020-08-25T02:43:10.326312Z",
     "shell.execute_reply": "2020-08-25T02:43:10.325453Z"
    },
    "id": "mXgnnkB-QcuS",
    "outputId": "55eff44c-4bc9-4741-f41b-b370b38630d0",
    "papermill": {
     "duration": 0.062847,
     "end_time": "2020-08-25T02:43:10.326488",
     "exception": false,
     "start_time": "2020-08-25T02:43:10.263641",
     "status": "completed"
    },
    "tags": []
   },
   "outputs": [],
   "source": [
    "X = df.drop(['Class/ASD Traits '], axis = 1)\n",
    "y = df['Class/ASD Traits ']\n",
    "X_train, X_test, y_train, y_test = train_test_split(X, y, test_size = 0.40, random_state =42)\n",
    "X.isnull().sum()\n",
    "X.info()"
   ]
  },
  {
   "cell_type": "code",
   "execution_count": null,
   "metadata": {
    "execution": {
     "iopub.execute_input": "2020-08-25T02:43:10.480513Z",
     "iopub.status.busy": "2020-08-25T02:43:10.479769Z",
     "iopub.status.idle": "2020-08-25T02:43:13.802340Z",
     "shell.execute_reply": "2020-08-25T02:43:13.803286Z"
    },
    "id": "Lf8rZ2QvRORm",
    "outputId": "40dd8018-d4da-45b3-ff34-6d10c4db56fa",
    "papermill": {
     "duration": 3.373683,
     "end_time": "2020-08-25T02:43:13.803532",
     "exception": false,
     "start_time": "2020-08-25T02:43:10.429849",
     "status": "completed"
    },
    "tags": []
   },
   "outputs": [],
   "source": [
    "\n",
    "\n",
    "models = []\n",
    "\n",
    "models.append(('LDA', LinearDiscriminantAnalysis()))\n",
    "models.append(('KNN', KNeighborsClassifier()))\n",
    "#models.append(('CART', DecisionTreeClassifier()))\n",
    "models.append(('NB', GaussianNB()))\n",
    "models.append(('SVM', SVC()))\n",
    "models.append(('RF', RandomForestRegressor()))\n",
    "models.append(('XGB', XGBClassifier()))\n",
    "models.append(('GBR', GradientBoostingRegressor()))\n",
    "\n",
    "for name, model in models:\n",
    "    model.fit(X_train, y_train)\n",
    "    y_hat_test = model.predict(X_test).astype(int)\n",
    "    y_hat_train = model.predict(X_train).astype(int)\n",
    "    print(name, 'Accuracy Score is : ', round(accuracy_score(y_test, y_hat_test)))\n",
    "\n",
    "    #metrics(name, y_train, y_test, y_hat_train, y_hat_test)\n",
    "\n",
    "\n",
    "    \n",
    "    "
   ]
  },
  {
   "cell_type": "code",
   "execution_count": null,
   "metadata": {},
   "outputs": [],
   "source": []
  },
  {
   "cell_type": "code",
   "execution_count": null,
   "metadata": {
    "execution": {
     "iopub.execute_input": "2020-08-25T02:43:13.978537Z",
     "iopub.status.busy": "2020-08-25T02:43:13.977520Z",
     "iopub.status.idle": "2020-08-25T02:43:14.155570Z",
     "shell.execute_reply": "2020-08-25T02:43:14.156562Z"
    },
    "id": "UgJiAGE3IReH",
    "outputId": "f61abd1a-27f6-4ea1-d88a-35deccaf6e98",
    "papermill": {
     "duration": 0.231186,
     "end_time": "2020-08-25T02:43:14.156836",
     "exception": false,
     "start_time": "2020-08-25T02:43:13.925650",
     "status": "completed"
    },
    "tags": []
   },
   "outputs": [],
   "source": [
    "for name, model in models:\n",
    "    \n",
    "    y_hat_test = model.predict(X_test).astype(int)\n",
    "    y_hat_train = model.predict(X_train).astype(int)\n",
    "    print(name, 'Accuracy Score is : ',round( accuracy_score(y_test, y_hat_test),2))"
   ]
  },
  {
   "cell_type": "code",
   "execution_count": null,
   "metadata": {
    "execution": {
     "iopub.execute_input": "2020-08-25T02:43:14.438978Z",
     "iopub.status.busy": "2020-08-25T02:43:14.437270Z",
     "iopub.status.idle": "2020-08-25T02:43:40.494562Z",
     "shell.execute_reply": "2020-08-25T02:43:40.493840Z"
    },
    "id": "j4dtvIDnTkuu",
    "outputId": "2b136792-4570-4f59-965f-c37e52be0c2a",
    "papermill": {
     "duration": 26.105894,
     "end_time": "2020-08-25T02:43:40.494691",
     "exception": false,
     "start_time": "2020-08-25T02:43:14.388797",
     "status": "completed"
    },
    "tags": []
   },
   "outputs": [],
   "source": [
    "svc = SVC()\n",
    "\n",
    "params = {\n",
    "    'C': [0.1,0.8,0.9,1,1.1,1.2,1.3,1.4],\n",
    "    'kernel':['linear', 'rbf'],\n",
    "    'gamma' :[0.1,0.8,0.9,1,1.1,1.2,1.3,1.4]\n",
    "}\n",
    "\n",
    "clf = GridSearchCV(svc, param_grid = params, scoring = 'accuracy', cv = 10, verbose = 2)\n",
    "\n",
    "clf.fit(X_train, y_train)\n",
    "clf.best_params_"
   ]
  },
  {
   "cell_type": "code",
   "execution_count": null,
   "metadata": {
    "execution": {
     "iopub.execute_input": "2020-08-25T02:43:40.720856Z",
     "iopub.status.busy": "2020-08-25T02:43:40.719831Z",
     "iopub.status.idle": "2020-08-25T02:43:40.974971Z",
     "shell.execute_reply": "2020-08-25T02:43:40.973867Z"
    },
    "id": "DVstJsAoTszn",
    "outputId": "1d520ee3-0502-4a44-f148-3be761f2f578",
    "papermill": {
     "duration": 0.319273,
     "end_time": "2020-08-25T02:43:40.975171",
     "exception": false,
     "start_time": "2020-08-25T02:43:40.655898",
     "status": "completed"
    },
    "tags": []
   },
   "outputs": [],
   "source": [
    "# Re-running model with best parametres\n",
    "from sklearn.svm import SVC\n",
    "svc1 = SVC(C = 0.8, gamma = 0.1, kernel = 'linear')\n",
    "svc1.fit(X_train, y_train)\n",
    "y_hat_test = svc1.predict(X_test)\n",
    "#print(accuracy_score(y_test, y_hat_test))\n",
    "metrics(svc1, y_train, y_test, y_hat_train, y_hat_test)\n",
    "svcgrid_test_acc = round(accuracy_score(y_test, y_hat_test), 2)\n",
    "\n",
    "svcgrid_test_acc"
   ]
  },
  {
   "cell_type": "code",
   "execution_count": null,
   "metadata": {
    "execution": {
     "iopub.execute_input": "2020-08-25T02:43:41.418007Z",
     "iopub.status.busy": "2020-08-25T02:43:41.417185Z",
     "iopub.status.idle": "2020-08-25T02:43:41.423057Z",
     "shell.execute_reply": "2020-08-25T02:43:41.422421Z"
    },
    "id": "A2AvDVEqrkPA",
    "papermill": {
     "duration": 0.066344,
     "end_time": "2020-08-25T02:43:41.423205",
     "exception": false,
     "start_time": "2020-08-25T02:43:41.356861",
     "status": "completed"
    },
    "tags": []
   },
   "outputs": [],
   "source": [
    "\n",
    "#Instantiate the pipeline\n",
    "from sklearn.pipeline import Pipeline\n",
    "\n",
    "pipe = Pipeline([('classifier', RandomForestClassifier(random_state=123))])"
   ]
  },
  {
   "cell_type": "code",
   "execution_count": null,
   "metadata": {
    "execution": {
     "iopub.execute_input": "2020-08-25T02:43:41.647001Z",
     "iopub.status.busy": "2020-08-25T02:43:41.646141Z",
     "iopub.status.idle": "2020-08-25T02:43:41.648953Z",
     "shell.execute_reply": "2020-08-25T02:43:41.649508Z"
    },
    "id": "VcSoVjXXr5ju",
    "papermill": {
     "duration": 0.064576,
     "end_time": "2020-08-25T02:43:41.649676",
     "exception": false,
     "start_time": "2020-08-25T02:43:41.585100",
     "status": "completed"
    },
    "tags": []
   },
   "outputs": [],
   "source": [
    "grid = [{'classifier__criterion': ['gini', 'entropy'],\n",
    "         'classifier__n_estimators':[10, 20, 50, 100],\n",
    "         'classifier__max_depth': [None, 5, 3, 10],\n",
    "         'classifier__min_samples_split': [1.0, 6, 10],\n",
    "         'classifier__min_samples_leaf': [1,  6, 10],\n",
    "         'classifier__class_weight':['balanced']}]"
   ]
  },
  {
   "cell_type": "code",
   "execution_count": null,
   "metadata": {
    "execution": {
     "iopub.execute_input": "2020-08-25T02:43:41.874182Z",
     "iopub.status.busy": "2020-08-25T02:43:41.873372Z",
     "iopub.status.idle": "2020-08-25T02:44:47.916982Z",
     "shell.execute_reply": "2020-08-25T02:44:47.917581Z"
    },
    "id": "qU3Mdq5-18Nr",
    "outputId": "3425ce2b-90d5-4a09-cca9-8979133b15c5",
    "papermill": {
     "duration": 66.106396,
     "end_time": "2020-08-25T02:44:47.917802",
     "exception": false,
     "start_time": "2020-08-25T02:43:41.811406",
     "status": "completed"
    },
    "tags": []
   },
   "outputs": [],
   "source": [
    "clf = GridSearchCV(estimator=pipe, param_grid=grid,\n",
    "                   cv=5, scoring='roc_auc', n_jobs=-1)\n",
    "clf.fit(X_train, y_train)\n",
    "y_hat_train = clf.predict(X_train)\n",
    "y_hat_test = clf.predict(X_test)"
   ]
  },
  {
   "cell_type": "code",
   "execution_count": null,
   "metadata": {
    "execution": {
     "iopub.execute_input": "2020-08-25T02:44:48.154001Z",
     "iopub.status.busy": "2020-08-25T02:44:48.152881Z",
     "iopub.status.idle": "2020-08-25T02:44:48.393845Z",
     "shell.execute_reply": "2020-08-25T02:44:48.392686Z"
    },
    "id": "mZT3I2vT2IXo",
    "outputId": "287a527d-c407-4632-f35c-7aaa6408f088",
    "papermill": {
     "duration": 0.312723,
     "end_time": "2020-08-25T02:44:48.393995",
     "exception": false,
     "start_time": "2020-08-25T02:44:48.081272",
     "status": "completed"
    },
    "tags": []
   },
   "outputs": [],
   "source": [
    "\n",
    "metrics(clf, y_train, y_test, y_hat_train, y_hat_test)\n"
   ]
  },
  {
   "cell_type": "code",
   "execution_count": null,
   "metadata": {
    "execution": {
     "iopub.execute_input": "2020-08-25T02:44:48.623441Z",
     "iopub.status.busy": "2020-08-25T02:44:48.622238Z",
     "iopub.status.idle": "2020-08-25T02:44:48.666898Z",
     "shell.execute_reply": "2020-08-25T02:44:48.666114Z"
    },
    "id": "BBvzouFb2WOc",
    "outputId": "2ebda44f-0d64-4477-cdfb-043ff6117776",
    "papermill": {
     "duration": 0.109431,
     "end_time": "2020-08-25T02:44:48.667032",
     "exception": false,
     "start_time": "2020-08-25T02:44:48.557601",
     "status": "completed"
    },
    "tags": []
   },
   "outputs": [],
   "source": [
    "print(round(clf.score(X_train, y_train)))\n",
    "print(round(clf.score(X_test, y_test)))"
   ]
  },
  {
   "cell_type": "code",
   "execution_count": null,
   "metadata": {
    "execution": {
     "iopub.execute_input": "2020-08-25T02:44:48.892945Z",
     "iopub.status.busy": "2020-08-25T02:44:48.891806Z",
     "iopub.status.idle": "2020-08-25T02:44:48.896488Z",
     "shell.execute_reply": "2020-08-25T02:44:48.895769Z"
    },
    "id": "eYCr_ktH2YLE",
    "outputId": "c966346f-03a4-449e-f24f-2e0f5dc457f1",
    "papermill": {
     "duration": 0.065429,
     "end_time": "2020-08-25T02:44:48.896614",
     "exception": false,
     "start_time": "2020-08-25T02:44:48.831185",
     "status": "completed"
    },
    "tags": []
   },
   "outputs": [],
   "source": [
    "clf.best_params_"
   ]
  },
  {
   "cell_type": "code",
   "execution_count": null,
   "metadata": {
    "execution": {
     "iopub.execute_input": "2020-08-25T02:44:49.016607Z",
     "iopub.status.busy": "2020-08-25T02:44:49.015513Z",
     "iopub.status.idle": "2020-08-25T02:44:49.255050Z",
     "shell.execute_reply": "2020-08-25T02:44:49.255581Z"
    },
    "id": "XXLwN_JclDUK",
    "outputId": "ed457979-9fe8-4a5f-83b3-f18087292543",
    "papermill": {
     "duration": 0.303972,
     "end_time": "2020-08-25T02:44:49.255766",
     "exception": false,
     "start_time": "2020-08-25T02:44:48.951794",
     "status": "completed"
    },
    "tags": []
   },
   "outputs": [],
   "source": [
    "# Research best estimator from grid\n",
    "best_clf_estimator = clf.best_estimator_\n",
    "best_clf_estimator.fit(X_train,y_train)"
   ]
  },
  {
   "cell_type": "code",
   "execution_count": null,
   "metadata": {
    "execution": {
     "iopub.execute_input": "2020-08-25T02:44:49.377783Z",
     "iopub.status.busy": "2020-08-25T02:44:49.376555Z",
     "iopub.status.idle": "2020-08-25T02:44:49.658784Z",
     "shell.execute_reply": "2020-08-25T02:44:49.657920Z"
    },
    "id": "g48QeTwil83J",
    "outputId": "5e7da8ca-84da-4310-e284-87543ec53a89",
    "papermill": {
     "duration": 0.347696,
     "end_time": "2020-08-25T02:44:49.658956",
     "exception": false,
     "start_time": "2020-08-25T02:44:49.311260",
     "status": "completed"
    },
    "tags": []
   },
   "outputs": [],
   "source": [
    "#Predictions\n",
    "y_hat_train=best_clf_estimator.predict(X_train)\n",
    "y_hat_test = best_clf_estimator.predict(X_test)\n",
    "results=metrics(best_clf_estimator, y_train, y_test, y_hat_train, y_hat_test)\n",
    "rf_gridsearch_test_acc = round(accuracy_score(y_test,y_hat_test), 2)\n",
    "rf_gridsearch_test_acc"
   ]
  },
  {
   "cell_type": "code",
   "execution_count": null,
   "metadata": {
    "execution": {
     "iopub.execute_input": "2020-08-25T02:44:49.897693Z",
     "iopub.status.busy": "2020-08-25T02:44:49.896572Z",
     "iopub.status.idle": "2020-08-25T02:44:50.101029Z",
     "shell.execute_reply": "2020-08-25T02:44:50.100268Z"
    },
    "id": "-O3zPiGxePjA",
    "outputId": "1a323235-d6f9-47af-dd40-f77456dbcf80",
    "papermill": {
     "duration": 0.274506,
     "end_time": "2020-08-25T02:44:50.101162",
     "exception": false,
     "start_time": "2020-08-25T02:44:49.826656",
     "status": "completed"
    },
    "tags": []
   },
   "outputs": [],
   "source": [
    "plot_feature_importances(model)"
   ]
  },
  {
   "cell_type": "code",
   "execution_count": null,
   "metadata": {
    "execution": {
     "iopub.execute_input": "2020-08-25T02:44:50.451461Z",
     "iopub.status.busy": "2020-08-25T02:44:50.447989Z",
     "iopub.status.idle": "2020-08-25T02:44:51.716390Z",
     "shell.execute_reply": "2020-08-25T02:44:51.715643Z"
    },
    "id": "T-kIe9HINxUP",
    "outputId": "0ba511c5-3d31-436b-bec0-00a1143c9c01",
    "papermill": {
     "duration": 1.333501,
     "end_time": "2020-08-25T02:44:51.716539",
     "exception": false,
     "start_time": "2020-08-25T02:44:50.383038",
     "status": "completed"
    },
    "tags": []
   },
   "outputs": [],
   "source": [
    "# Neural Network Classifier Using SKLearn\n",
    "##Applying MLPClassifier Model \n",
    "from sklearn.neural_network import MLPClassifier\n",
    "MLPClassifierModel = MLPClassifier(activation='tanh', # can be also identity , logistic , relu\n",
    "                                   solver='lbfgs',  # can be also sgd , adam\n",
    "                                   learning_rate='constant', # can be also invscaling , adaptive\n",
    "                                   early_stopping= False,\n",
    "                                   alpha=0.0001 ,hidden_layer_sizes=(100, 3),random_state=33)\n",
    "MLPClassifierModel.fit(X_train, y_train)\n",
    "#Calculating Prediction\n",
    "y_hat_test = MLPClassifierModel.predict(X_test)\n",
    "y_hat_train = MLPClassifierModel.predict(X_train)\n",
    "\n",
    "results=metrics(MLPClassifierModel, y_train, y_test, y_hat_train, y_hat_test)\n",
    "\n",
    "#Calculating Accuracy Score  \n",
    "nn_sklearn_test_acc = round(accuracy_score(y_test, y_hat_test, normalize=True),2)\n",
    "\n",
    "print('Accuracy Score is : ', nn_sklearn_test_acc)\n"
   ]
  },
  {
   "cell_type": "code",
   "execution_count": null,
   "metadata": {
    "execution": {
     "iopub.execute_input": "2020-08-25T02:45:08.016933Z",
     "iopub.status.busy": "2020-08-25T02:45:08.015953Z",
     "iopub.status.idle": "2020-08-25T02:45:08.021460Z",
     "shell.execute_reply": "2020-08-25T02:45:08.022444Z"
    },
    "id": "9Ir5MOuGuUxw",
    "outputId": "5ea62482-b79b-4b4a-97d8-0b80ac3d366b",
    "papermill": {
     "duration": 0.086024,
     "end_time": "2020-08-25T02:45:08.022656",
     "exception": false,
     "start_time": "2020-08-25T02:45:07.936632",
     "status": "completed"
    },
    "tags": []
   },
   "outputs": [],
   "source": [
    "# collecting the summary of our neural network paramters\n",
    "model.summary()\n"
   ]
  },
  {
   "cell_type": "code",
   "execution_count": null,
   "metadata": {
    "execution": {
     "iopub.execute_input": "2020-08-25T02:45:08.467232Z",
     "iopub.status.busy": "2020-08-25T02:45:08.466152Z",
     "iopub.status.idle": "2020-08-25T02:45:09.051949Z",
     "shell.execute_reply": "2020-08-25T02:45:09.051024Z"
    },
    "id": "-yikLrOfMolX",
    "outputId": "bc292cfa-a7f4-42eb-eab9-734f0aa2991d",
    "papermill": {
     "duration": 0.663525,
     "end_time": "2020-08-25T02:45:09.052091",
     "exception": false,
     "start_time": "2020-08-25T02:45:08.388566",
     "status": "completed"
    },
    "tags": []
   },
   "outputs": [],
   "source": [
    "#structure of keras neuralnetwork model\n",
    "#from keras.utils import plot_model\n",
    "from keras.utils.vis_utils import plot_model\n",
    "plot_model(model)\n",
    "# looking at the structure of my neural network"
   ]
  },
  {
   "cell_type": "code",
   "execution_count": null,
   "metadata": {
    "execution": {
     "iopub.execute_input": "2020-08-25T02:45:09.211497Z",
     "iopub.status.busy": "2020-08-25T02:45:09.210607Z",
     "iopub.status.idle": "2020-08-25T02:45:09.213512Z",
     "shell.execute_reply": "2020-08-25T02:45:09.214115Z"
    },
    "papermill": {
     "duration": 0.088082,
     "end_time": "2020-08-25T02:45:09.214278",
     "exception": false,
     "start_time": "2020-08-25T02:45:09.126196",
     "status": "completed"
    },
    "tags": []
   },
   "outputs": [],
   "source": [
    "def evaluate_clf(y_true, y_pred):\n",
    "    \"\"\"Return confusion matrix, classification report, and accuracy score\n",
    "    for a classifier.\n",
    "    \n",
    "    Parameters\n",
    "    ----------\n",
    "    y_true : array-like\n",
    "        Target class labels\n",
    "    y_pred : array-like\n",
    "        Predicted class labels\n",
    "        \n",
    "    Returns\n",
    "    ----------\n",
    "    Confusion matrix, classification report, accuracy score\n",
    "    \"\"\"\n",
    "    \n",
    "    test_acc = round(accuracy_score(y_true, y_pred), 2)\n",
    "    \n",
    "    print('Confusion Matrix:')\n",
    "    print(confusion_matrix(y_test, y_pred))\n",
    "    print('---'*20)\n",
    "    print('Classification Report:')\n",
    "    print(classification_report(y_test, y_pred))\n",
    "    print('---'*20)\n",
    "    print(\"kerasNN_test_acc:\",round(accuracy_score(y_test,y_hat_test), 2))\n",
    "    print(\"kerasNN_train_acc:\" ,round(accuracy_score(y_train,y_hat_train), 2))\n"
   ]
  },
  {
   "cell_type": "code",
   "execution_count": null,
   "metadata": {
    "execution": {
     "iopub.execute_input": "2020-08-25T02:45:09.949579Z",
     "iopub.status.busy": "2020-08-25T02:45:09.948447Z",
     "iopub.status.idle": "2020-08-25T02:45:09.956527Z",
     "shell.execute_reply": "2020-08-25T02:45:09.957076Z"
    },
    "id": "QL_tzp5458-3",
    "papermill": {
     "duration": 0.093793,
     "end_time": "2020-08-25T02:45:09.957250",
     "exception": false,
     "start_time": "2020-08-25T02:45:09.863457",
     "status": "completed"
    },
    "tags": []
   },
   "outputs": [],
   "source": [
    "# Create classifier summary table\n",
    "\n",
    "LogisticRegression_Accuracy =  1.0\n",
    "LinearDiscriminantAnalysis_accuracy  =  0.96\n",
    "KNeighborsClassifier_accuracy =  0.91\n",
    "DecisionTreeClassifier_accuracy =  0.91\n",
    "GaussianNB_accuracy =  0.94\n",
    "SVC_beforegrid_accuracy =  0.78\n",
    "RandomForest_beforegrid_accuracy =  0.64\n",
    "XGBClassifier_accuracy=  0.99\n",
    "GradientBoosting_accuracy =  0.64,\n",
    "AdaBoosting_accuracy = 0.49\n",
    "SVC_aftergrid_accuracy = 1.0\n",
    "RandomForest_aftergrid_accuracy =0.98\n",
    "Neuralnetwork_SKLearn_accuracy= 0.99\n",
    "Neuralnetwork_Keras_accuracy = 0.95\n",
    "\n",
    "\n",
    "\n",
    "models=['LogisticRegression','LinearDiscriminantAnalysis',\n",
    "       'KNeighborsClassifier','DecisionTreeClassifier',\n",
    "        'GaussianNB','SVC_beforegrid',\n",
    "        'RandomForest_beforegrid','XGBClassifier',\n",
    "        'GradientBoosting','AdaBoosting','SVC_aftergrid','RandomForest_aftergrid','Neuralnetwork_SKLearn Accuracy','Neuralnetwork_Keras']\n",
    "\n",
    "\n",
    "test_Accuracy=[1.0,0.96,0.91,0.91,0.94, 0.78,0.64, 0.99,0.64,0.49,1.0,0.96,0.99,0.95]\n",
    "\n",
    "\n",
    "\n",
    "\n",
    "accuracy_summary = pd.DataFrame([models, test_Accuracy]).T\n",
    "accuracy_summary.columns = ['Classifier', 'test_Accuracy']\n"
   ]
  },
  {
   "cell_type": "code",
   "execution_count": null,
   "metadata": {
    "execution": {
     "iopub.execute_input": "2020-08-25T02:45:10.265143Z",
     "iopub.status.busy": "2020-08-25T02:45:10.264265Z",
     "iopub.status.idle": "2020-08-25T02:45:10.269139Z",
     "shell.execute_reply": "2020-08-25T02:45:10.268470Z"
    },
    "id": "PdGd9fm56cCh",
    "outputId": "77a16bf7-5702-4fe0-e953-ee69495edf02",
    "papermill": {
     "duration": 0.089119,
     "end_time": "2020-08-25T02:45:10.269268",
     "exception": false,
     "start_time": "2020-08-25T02:45:10.180149",
     "status": "completed"
    },
    "tags": []
   },
   "outputs": [],
   "source": [
    "accuracy_summary"
   ]
  },
  {
   "cell_type": "code",
   "execution_count": null,
   "metadata": {},
   "outputs": [],
   "source": [
    "import pickle\n",
    "\n",
    "# Save trained model to file\n",
    "pickle.dump(best_clf_estimator, open(\"autism.pkl\", \"wb\"))"
   ]
  },
  {
   "cell_type": "code",
   "execution_count": null,
   "metadata": {},
   "outputs": [],
   "source": [
    "loaded_model = pickle.load(open(\"autism.pkl\", \"rb\"))\n",
    "loaded_model.predict(X_test)\n",
    "loaded_model.score(X_test,y_test)"
   ]
  },
  {
   "cell_type": "code",
   "execution_count": null,
   "metadata": {},
   "outputs": [],
   "source": [
    "X_test.head(2)"
   ]
  },
  {
   "cell_type": "code",
   "execution_count": null,
   "metadata": {},
   "outputs": [],
   "source": [
    "\n",
    "A1 = input()\n",
    "A2 = input()\n",
    "A3 = input()\n",
    "A4 = input()\n",
    "A5 = input()\n",
    "A6 = input()\n",
    "A7 = input()\n",
    "A8 = input()\n",
    "A9 = input()\n",
    "A10 = input()\n",
    "\n"
   ]
  },
  {
   "cell_type": "code",
   "execution_count": null,
   "metadata": {},
   "outputs": [],
   "source": [
    "row_df = pd.DataFrame([pd.Series([A1,A2,A3,A4,A5,A6,A7,A8,A9,A10])])"
   ]
  },
  {
   "cell_type": "code",
   "execution_count": null,
   "metadata": {},
   "outputs": [],
   "source": [
    "row_df\n"
   ]
  },
  {
   "cell_type": "code",
   "execution_count": null,
   "metadata": {},
   "outputs": [],
   "source": [
    "prob = loaded_model.predict_proba(row_df)[0][1]\n",
    "print(f\"The probability of you having austim is {prob}\")"
   ]
  },
  {
   "cell_type": "code",
   "execution_count": null,
   "metadata": {},
   "outputs": [],
   "source": [
    "r=loaded_model.predict(row_df)[0]\n",
    "if r==1:\n",
    "    print(\"Victim having austim spectram disorder\")\n",
    "else:\n",
    "    print(\"Victim is not effected with austim spectram disorder\")"
   ]
  },
  {
   "cell_type": "code",
   "execution_count": null,
   "metadata": {},
   "outputs": [],
   "source": []
  },
  {
   "cell_type": "code",
   "execution_count": null,
   "metadata": {},
   "outputs": [],
   "source": []
  },
  {
   "cell_type": "code",
   "execution_count": null,
   "metadata": {},
   "outputs": [],
   "source": []
  },
  {
   "cell_type": "code",
   "execution_count": null,
   "metadata": {},
   "outputs": [],
   "source": []
  }
 ],
 "metadata": {
  "kernelspec": {
   "display_name": "Python 3 (ipykernel)",
   "language": "python",
   "name": "python3"
  },
  "language_info": {
   "codemirror_mode": {
    "name": "ipython",
    "version": 3
   },
   "file_extension": ".py",
   "mimetype": "text/x-python",
   "name": "python",
   "nbconvert_exporter": "python",
   "pygments_lexer": "ipython3",
   "version": "3.9.12"
  },
  "papermill": {
   "duration": 134.910904,
   "end_time": "2020-08-25T02:45:11.040748",
   "environment_variables": {},
   "exception": null,
   "input_path": "__notebook__.ipynb",
   "output_path": "__notebook__.ipynb",
   "parameters": {},
   "start_time": "2020-08-25T02:42:56.129844",
   "version": "2.1.0"
  }
 },
 "nbformat": 4,
 "nbformat_minor": 4
}
